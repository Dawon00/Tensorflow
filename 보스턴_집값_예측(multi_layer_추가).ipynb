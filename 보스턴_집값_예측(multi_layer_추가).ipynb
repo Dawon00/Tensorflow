{
  "nbformat": 4,
  "nbformat_minor": 0,
  "metadata": {
    "colab": {
      "name": "보스턴 집값 예측(multi layer 추가)",
      "provenance": [],
      "collapsed_sections": [],
      "authorship_tag": "ABX9TyOMg8a9MPXU0SwvLZrvE/Wg",
      "include_colab_link": true
    },
    "kernelspec": {
      "name": "python3",
      "display_name": "Python 3"
    },
    "language_info": {
      "name": "python"
    }
  },
  "cells": [
    {
      "cell_type": "markdown",
      "metadata": {
        "id": "view-in-github",
        "colab_type": "text"
      },
      "source": [
        "<a href=\"https://colab.research.google.com/github/Dawon00/Tensorflow/blob/main/%EB%B3%B4%EC%8A%A4%ED%84%B4_%EC%A7%91%EA%B0%92_%EC%98%88%EC%B8%A1(multi_layer_%EC%B6%94%EA%B0%80).ipynb\" target=\"_parent\"><img src=\"https://colab.research.google.com/assets/colab-badge.svg\" alt=\"Open In Colab\"/></a>"
      ]
    },
    {
      "cell_type": "code",
      "metadata": {
        "id": "AHUL2QqLQ1r1"
      },
      "source": [
        "#라이브러리 사용\n",
        "import tensorflow as tf\n",
        "import pandas as pd"
      ],
      "execution_count": null,
      "outputs": []
    },
    {
      "cell_type": "code",
      "metadata": {
        "colab": {
          "base_uri": "https://localhost:8080/",
          "height": 256
        },
        "id": "9vPEcEMWSPIZ",
        "outputId": "726ac1e7-f11d-4bd2-8db3-2870842cfaa1"
      },
      "source": [
        "# 1.과거의 데이터를 준비합니다.\n",
        "파일경로 = 'https://raw.githubusercontent.com/blackdew/tensorflow1/master/csv/boston.csv'\n",
        "보스턴 = pd.read_csv(파일경로)\n",
        "print(보스턴.columns)\n",
        "보스턴.head()"
      ],
      "execution_count": null,
      "outputs": [
        {
          "output_type": "stream",
          "text": [
            "Index(['crim', 'zn', 'indus', 'chas', 'nox', 'rm', 'age', 'dis', 'rad', 'tax',\n",
            "       'ptratio', 'b', 'lstat', 'medv'],\n",
            "      dtype='object')\n"
          ],
          "name": "stdout"
        },
        {
          "output_type": "execute_result",
          "data": {
            "text/html": [
              "<div>\n",
              "<style scoped>\n",
              "    .dataframe tbody tr th:only-of-type {\n",
              "        vertical-align: middle;\n",
              "    }\n",
              "\n",
              "    .dataframe tbody tr th {\n",
              "        vertical-align: top;\n",
              "    }\n",
              "\n",
              "    .dataframe thead th {\n",
              "        text-align: right;\n",
              "    }\n",
              "</style>\n",
              "<table border=\"1\" class=\"dataframe\">\n",
              "  <thead>\n",
              "    <tr style=\"text-align: right;\">\n",
              "      <th></th>\n",
              "      <th>crim</th>\n",
              "      <th>zn</th>\n",
              "      <th>indus</th>\n",
              "      <th>chas</th>\n",
              "      <th>nox</th>\n",
              "      <th>rm</th>\n",
              "      <th>age</th>\n",
              "      <th>dis</th>\n",
              "      <th>rad</th>\n",
              "      <th>tax</th>\n",
              "      <th>ptratio</th>\n",
              "      <th>b</th>\n",
              "      <th>lstat</th>\n",
              "      <th>medv</th>\n",
              "    </tr>\n",
              "  </thead>\n",
              "  <tbody>\n",
              "    <tr>\n",
              "      <th>0</th>\n",
              "      <td>0.00632</td>\n",
              "      <td>18.0</td>\n",
              "      <td>2.31</td>\n",
              "      <td>0</td>\n",
              "      <td>0.538</td>\n",
              "      <td>6.575</td>\n",
              "      <td>65.2</td>\n",
              "      <td>4.0900</td>\n",
              "      <td>1</td>\n",
              "      <td>296</td>\n",
              "      <td>15.3</td>\n",
              "      <td>396.90</td>\n",
              "      <td>4.98</td>\n",
              "      <td>24.0</td>\n",
              "    </tr>\n",
              "    <tr>\n",
              "      <th>1</th>\n",
              "      <td>0.02731</td>\n",
              "      <td>0.0</td>\n",
              "      <td>7.07</td>\n",
              "      <td>0</td>\n",
              "      <td>0.469</td>\n",
              "      <td>6.421</td>\n",
              "      <td>78.9</td>\n",
              "      <td>4.9671</td>\n",
              "      <td>2</td>\n",
              "      <td>242</td>\n",
              "      <td>17.8</td>\n",
              "      <td>396.90</td>\n",
              "      <td>9.14</td>\n",
              "      <td>21.6</td>\n",
              "    </tr>\n",
              "    <tr>\n",
              "      <th>2</th>\n",
              "      <td>0.02729</td>\n",
              "      <td>0.0</td>\n",
              "      <td>7.07</td>\n",
              "      <td>0</td>\n",
              "      <td>0.469</td>\n",
              "      <td>7.185</td>\n",
              "      <td>61.1</td>\n",
              "      <td>4.9671</td>\n",
              "      <td>2</td>\n",
              "      <td>242</td>\n",
              "      <td>17.8</td>\n",
              "      <td>392.83</td>\n",
              "      <td>4.03</td>\n",
              "      <td>34.7</td>\n",
              "    </tr>\n",
              "    <tr>\n",
              "      <th>3</th>\n",
              "      <td>0.03237</td>\n",
              "      <td>0.0</td>\n",
              "      <td>2.18</td>\n",
              "      <td>0</td>\n",
              "      <td>0.458</td>\n",
              "      <td>6.998</td>\n",
              "      <td>45.8</td>\n",
              "      <td>6.0622</td>\n",
              "      <td>3</td>\n",
              "      <td>222</td>\n",
              "      <td>18.7</td>\n",
              "      <td>394.63</td>\n",
              "      <td>2.94</td>\n",
              "      <td>33.4</td>\n",
              "    </tr>\n",
              "    <tr>\n",
              "      <th>4</th>\n",
              "      <td>0.06905</td>\n",
              "      <td>0.0</td>\n",
              "      <td>2.18</td>\n",
              "      <td>0</td>\n",
              "      <td>0.458</td>\n",
              "      <td>7.147</td>\n",
              "      <td>54.2</td>\n",
              "      <td>6.0622</td>\n",
              "      <td>3</td>\n",
              "      <td>222</td>\n",
              "      <td>18.7</td>\n",
              "      <td>396.90</td>\n",
              "      <td>5.33</td>\n",
              "      <td>36.2</td>\n",
              "    </tr>\n",
              "  </tbody>\n",
              "</table>\n",
              "</div>"
            ],
            "text/plain": [
              "      crim    zn  indus  chas    nox  ...  tax  ptratio       b  lstat  medv\n",
              "0  0.00632  18.0   2.31     0  0.538  ...  296     15.3  396.90   4.98  24.0\n",
              "1  0.02731   0.0   7.07     0  0.469  ...  242     17.8  396.90   9.14  21.6\n",
              "2  0.02729   0.0   7.07     0  0.469  ...  242     17.8  392.83   4.03  34.7\n",
              "3  0.03237   0.0   2.18     0  0.458  ...  222     18.7  394.63   2.94  33.4\n",
              "4  0.06905   0.0   2.18     0  0.458  ...  222     18.7  396.90   5.33  36.2\n",
              "\n",
              "[5 rows x 14 columns]"
            ]
          },
          "metadata": {
            "tags": []
          },
          "execution_count": 2
        }
      ]
    },
    {
      "cell_type": "code",
      "metadata": {
        "colab": {
          "base_uri": "https://localhost:8080/"
        },
        "id": "RjUjz_MfSTgc",
        "outputId": "c6db1c2e-f668-4010-a761-30efc9f89a43"
      },
      "source": [
        "# 독립변수, 종속변수 분리 \n",
        "독립 = 보스턴[['crim', 'zn', 'indus', 'chas', 'nox', 'rm', 'age', 'dis', 'rad', 'tax',\n",
        "            'ptratio', 'b', 'lstat']]\n",
        "종속 = 보스턴[['medv']]\n",
        "print(독립.shape, 종속.shape)"
      ],
      "execution_count": null,
      "outputs": [
        {
          "output_type": "stream",
          "text": [
            "(506, 13) (506, 1)\n"
          ],
          "name": "stdout"
        }
      ]
    },
    {
      "cell_type": "code",
      "metadata": {
        "id": "LxaUWRQlSWUE"
      },
      "source": [
        "# 2. 모델의 구조를 만듭니다\n",
        "X = tf.keras.layers.Input(shape=[13])\n",
        "H = tf.keras.layers.Dense(10, activation='swish')(X)\n",
        "Y = tf.keras.layers.Dense(1)(H)\n",
        "model = tf.keras.models.Model(X, Y)\n",
        "model.compile(loss='mse')"
      ],
      "execution_count": null,
      "outputs": []
    },
    {
      "cell_type": "code",
      "metadata": {
        "colab": {
          "base_uri": "https://localhost:8080/"
        },
        "id": "V3n6HbcgjeZG",
        "outputId": "cb495e7f-1b9d-4e36-bf08-158e62629353"
      },
      "source": [
        "model.summary()"
      ],
      "execution_count": null,
      "outputs": [
        {
          "output_type": "stream",
          "text": [
            "Model: \"model\"\n",
            "_________________________________________________________________\n",
            "Layer (type)                 Output Shape              Param #   \n",
            "=================================================================\n",
            "input_1 (InputLayer)         [(None, 13)]              0         \n",
            "_________________________________________________________________\n",
            "dense (Dense)                (None, 10)                140       \n",
            "_________________________________________________________________\n",
            "dense_1 (Dense)              (None, 1)                 11        \n",
            "=================================================================\n",
            "Total params: 151\n",
            "Trainable params: 151\n",
            "Non-trainable params: 0\n",
            "_________________________________________________________________\n"
          ],
          "name": "stdout"
        }
      ]
    },
    {
      "cell_type": "code",
      "metadata": {
        "colab": {
          "base_uri": "https://localhost:8080/"
        },
        "id": "J-Z3BnMkSYlm",
        "outputId": "dd4e11ed-4f95-48ef-b6af-9c190a851479"
      },
      "source": [
        "# 3.데이터로 모델을 학습(FIT)합니다.\n",
        "model.fit(독립, 종속, epochs=1000, verbose=0)\n",
        "model.fit(독립, 종속, epochs=10)"
      ],
      "execution_count": null,
      "outputs": [
        {
          "output_type": "stream",
          "text": [
            "Epoch 1/10\n",
            "16/16 [==============================] - 0s 2ms/step - loss: 18.9052\n",
            "Epoch 2/10\n",
            "16/16 [==============================] - 0s 1ms/step - loss: 16.8780\n",
            "Epoch 3/10\n",
            "16/16 [==============================] - 0s 2ms/step - loss: 19.4690\n",
            "Epoch 4/10\n",
            "16/16 [==============================] - 0s 1ms/step - loss: 16.6725\n",
            "Epoch 5/10\n",
            "16/16 [==============================] - 0s 1ms/step - loss: 18.5447\n",
            "Epoch 6/10\n",
            "16/16 [==============================] - 0s 1ms/step - loss: 17.7788\n",
            "Epoch 7/10\n",
            "16/16 [==============================] - 0s 1ms/step - loss: 17.5326\n",
            "Epoch 8/10\n",
            "16/16 [==============================] - 0s 2ms/step - loss: 17.7118\n",
            "Epoch 9/10\n",
            "16/16 [==============================] - 0s 2ms/step - loss: 17.9807\n",
            "Epoch 10/10\n",
            "16/16 [==============================] - 0s 1ms/step - loss: 17.6181\n"
          ],
          "name": "stdout"
        },
        {
          "output_type": "execute_result",
          "data": {
            "text/plain": [
              "<tensorflow.python.keras.callbacks.History at 0x7fcc2eaac0d0>"
            ]
          },
          "metadata": {
            "tags": []
          },
          "execution_count": 12
        }
      ]
    },
    {
      "cell_type": "code",
      "metadata": {
        "colab": {
          "base_uri": "https://localhost:8080/"
        },
        "id": "VXdUNESESd_L",
        "outputId": "92142274-1acc-47cd-fc4f-17381f5eedde"
      },
      "source": [
        "# 4. 모델을 이용합니다\n",
        "print(model.predict(독립[5:10]))\n",
        "# 종속변수 확인\n",
        "print(종속[5:10])"
      ],
      "execution_count": null,
      "outputs": [
        {
          "output_type": "stream",
          "text": [
            "[[25.941343]\n",
            " [23.853285]\n",
            " [22.029795]\n",
            " [15.829989]\n",
            " [21.015749]]\n",
            "   medv\n",
            "5  28.7\n",
            "6  22.9\n",
            "7  27.1\n",
            "8  16.5\n",
            "9  18.9\n"
          ],
          "name": "stdout"
        }
      ]
    },
    {
      "cell_type": "code",
      "metadata": {
        "colab": {
          "base_uri": "https://localhost:8080/"
        },
        "id": "bVjuXhMSSl53",
        "outputId": "dbb0f005-25fe-4ff1-ebce-56a970268aa1"
      },
      "source": [
        "# 모델의 수식 확인\n",
        "print(model.get_weights())"
      ],
      "execution_count": null,
      "outputs": [
        {
          "output_type": "stream",
          "text": [
            "[array([[ 3.23657393e-02,  2.46380731e-01, -4.40598905e-01,\n",
            "         1.02472872e-01, -1.90004834e-03, -2.71304071e-01,\n",
            "        -6.29958987e-01,  2.97995716e-01, -2.73609459e-01,\n",
            "         1.91466566e-02],\n",
            "       [ 4.51017320e-01, -3.53096068e-01, -2.15905905e-03,\n",
            "         6.49573877e-02, -2.75571406e-01, -2.54041851e-01,\n",
            "        -5.86883903e-01,  2.19612449e-01, -7.20706284e-02,\n",
            "        -5.07313684e-02],\n",
            "       [-4.39577103e-01, -2.13772148e-01, -4.07185256e-02,\n",
            "        -2.24911362e-01,  2.11893097e-01,  3.32745433e-01,\n",
            "        -2.74427921e-01, -2.44905856e-02, -3.24054390e-01,\n",
            "         2.26906732e-01],\n",
            "       [ 3.03990066e-01, -2.61977649e+00,  1.60617828e-02,\n",
            "        -1.21990609e+00,  2.01207161e+00, -4.37861562e-01,\n",
            "        -1.28564370e+00,  1.57748580e-01, -2.56745696e-01,\n",
            "        -1.36596572e+00],\n",
            "       [-7.53004253e-02,  1.43844247e+00,  2.16423512e-01,\n",
            "        -7.67409146e-01, -7.58102953e-01, -1.19494736e-01,\n",
            "         3.57412666e-01, -4.18184936e-01,  2.98697531e-01,\n",
            "         1.08871019e+00],\n",
            "       [-3.00031692e-01,  2.36114097e+00, -8.40142667e-02,\n",
            "         4.47818995e+00,  2.81547570e+00,  1.38808668e-01,\n",
            "        -2.38197184e+00,  1.49209723e-01,  2.37607181e-01,\n",
            "        -2.45324111e+00],\n",
            "       [ 1.02623880e-01,  1.39017895e-01,  3.49376857e-01,\n",
            "        -3.88377577e-01,  3.42388272e-01, -3.66088152e-02,\n",
            "        -3.48597109e-01,  2.17572823e-01, -2.73480266e-01,\n",
            "         3.84755492e-01],\n",
            "       [-4.09701020e-01,  1.06604397e+00, -3.36263239e-01,\n",
            "        -5.04930615e-01, -4.25715715e-01,  2.27687657e-01,\n",
            "         4.49121296e-01, -2.89090931e-01,  1.15538061e-01,\n",
            "         1.89148858e-01],\n",
            "       [ 2.62997270e-01,  9.71271470e-03,  1.31083727e-02,\n",
            "         9.83099490e-02,  4.25751030e-01, -1.40690684e-01,\n",
            "        -8.85503292e-02, -8.69170725e-02, -4.64390725e-01,\n",
            "         3.05745721e-01],\n",
            "       [-4.50164914e-01,  6.92561641e-02, -1.63529634e-01,\n",
            "        -8.73330235e-02,  2.02331334e-01, -1.85392559e-01,\n",
            "         1.63291126e-01, -1.13713838e-01, -4.14274693e-01,\n",
            "         2.48580784e-01],\n",
            "       [ 2.30971932e-01, -8.45097244e-01, -3.32330704e-01,\n",
            "        -7.78586149e-01, -6.92741275e-02,  4.70033228e-01,\n",
            "        -2.60095924e-01,  2.74383873e-01,  3.65371943e-01,\n",
            "         2.86521524e-01],\n",
            "       [-3.35144401e-02, -1.43407151e-01, -2.37997383e-01,\n",
            "         2.10169837e-01, -9.12765637e-02, -4.28926945e-01,\n",
            "         2.70792067e-01, -1.38879359e-01, -4.02448952e-01,\n",
            "         1.68666303e-01],\n",
            "       [ 4.20946658e-01,  6.08620346e-01,  2.40133166e-01,\n",
            "        -3.34881216e-01, -1.76232845e-01, -3.86626959e-01,\n",
            "        -2.73306012e-01,  3.75631899e-02, -6.92071319e-02,\n",
            "        -7.80958056e-01]], dtype=float32), array([ 4.9778210e-16, -1.2801665e+00,  9.1028207e-19,  5.5514079e-01,\n",
            "        1.1297139e+00,  0.0000000e+00, -1.2190747e+00, -1.0123166e-02,\n",
            "        0.0000000e+00, -1.2539457e+00], dtype=float32), array([[-0.42793292],\n",
            "       [-1.3282707 ],\n",
            "       [-0.03290886],\n",
            "       [ 0.8942902 ],\n",
            "       [ 0.79078066],\n",
            "       [ 0.51767546],\n",
            "       [-0.30447719],\n",
            "       [ 0.30436403],\n",
            "       [ 0.057877  ],\n",
            "       [-0.18642116]], dtype=float32), array([1.153921], dtype=float32)]\n"
          ],
          "name": "stdout"
        }
      ]
    },
    {
      "cell_type": "code",
      "metadata": {
        "id": "Jo3EHFVpSoDf"
      },
      "source": [
        ""
      ],
      "execution_count": null,
      "outputs": []
    }
  ]
}